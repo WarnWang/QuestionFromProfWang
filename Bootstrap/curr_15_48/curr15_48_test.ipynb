{
 "cells": [
  {
   "cell_type": "code",
   "execution_count": 1,
   "metadata": {
    "collapsed": true
   },
   "outputs": [],
   "source": [
    "import os\n",
    "import datetime\n",
    "\n",
    "import scipy.io\n",
    "import pandas as pd\n",
    "# import matplotlib.pyplot as plt\n",
    "# import matplotlib.dates as mdates"
   ]
  },
  {
   "cell_type": "code",
   "execution_count": 4,
   "metadata": {
    "collapsed": false
   },
   "outputs": [
    {
     "data": {
      "text/plain": [
       "array([0, 0, 0, 0], dtype=uint16)"
      ]
     },
     "execution_count": 4,
     "metadata": {},
     "output_type": "execute_result"
    }
   ],
   "source": [
    "matlib_data_path = os.path.join('/Users/warn/Documents/RAForWangZG/2016.9.18/csv_results/output', 'division_4_curr_15_12m.mat')\n",
    "mat = scipy.io.loadmat(matlib_data_path)\n",
    "mat['reject_rate_SPA_mean'][1]"
   ]
  },
  {
   "cell_type": "code",
   "execution_count": 2,
   "metadata": {
    "collapsed": true
   },
   "outputs": [],
   "source": [
    "df_12m = pd.read_csv('20160919_12m_updated_15_curr.csv', index_col=0)\n",
    "df_6m = pd.read_csv('20160919_6m_updated_15_curr.csv', index_col=0)\n",
    "df_3m = pd.read_csv('20160919_3m_updated_15_curr.csv', index_col=0)\n",
    "df_1m = pd.read_csv('20160919_1m_updated_15_curr.csv', index_col=0)"
   ]
  },
  {
   "cell_type": "code",
   "execution_count": 16,
   "metadata": {
    "collapsed": false
   },
   "outputs": [
    {
     "data": {
      "text/plain": [
       "[['1',\n",
       "  '48',\n",
       "  '49',\n",
       "  '97',\n",
       "  '98',\n",
       "  '145',\n",
       "  '146',\n",
       "  '193',\n",
       "  '194',\n",
       "  '241',\n",
       "  '242',\n",
       "  '290',\n",
       "  '291',\n",
       "  '338',\n",
       "  '339',\n",
       "  '386'],\n",
       " ['1',\n",
       "  '16',\n",
       "  '17',\n",
       "  '32',\n",
       "  '33',\n",
       "  '48',\n",
       "  '49',\n",
       "  '64',\n",
       "  '65',\n",
       "  '80',\n",
       "  '81',\n",
       "  '96',\n",
       "  '97',\n",
       "  '112',\n",
       "  '113',\n",
       "  '128']]"
      ]
     },
     "execution_count": 16,
     "metadata": {},
     "output_type": "execute_result"
    }
   ],
   "source": [
    "date_index = \"\"\"1\t48\t49\t97\t98\t145\t146\t193\t194\t241\t242\t290\t291\t338\t339\t386\n",
    "1\t16\t17\t32\t33\t48\t49\t64\t65\t80\t81\t96\t97\t112\t113\t128\"\"\"\n",
    "date_list = [i.split(',') for i in date_index.replace('\\t', ',').split('\\n')]\n",
    "date_list"
   ]
  },
  {
   "cell_type": "code",
   "execution_count": 19,
   "metadata": {
    "collapsed": false
   },
   "outputs": [
    {
     "name": "stdout",
     "output_type": "stream",
     "text": [
      "1984-03-30,1987-12-31,1988-03-31,1991-12-31,1992-03-31,1995-12-29,1996-03-29,1999-12-31,2000-03-31,2003-12-31,2004-03-31,2007-12-31,2008-03-31,2011-12-30,2012-03-30,2015-12-31\n"
     ]
    }
   ],
   "source": [
    "c = ''\n",
    "for i in date_list[1]:\n",
    "    c = \"{},{}\".format(c, df_3m.index[int(i) - 1])\n",
    "    \n",
    "c = c[1:]\n",
    "print c"
   ]
  },
  {
   "cell_type": "code",
   "execution_count": 9,
   "metadata": {
    "collapsed": true
   },
   "outputs": [],
   "source": [
    "FORMER_RESULT_PATH = '/Users/warn/Documents/RAForWangZG/2016.9.18/xlsx_results'\n",
    "div_4_max_df = pd.read_excel(os.path.join(FORMER_RESULT_PATH, 'max_info_statistics.xlsx'), sheetname='division 4')\n",
    "data_df = pd.read_csv('/Users/warn/PycharmProjects/QuestionFromProfWang/Bootstrap/curr_15_48/20160919_3m_updated_15_curr.csv', index_col=0)\n",
    "date_info = map(lambda x: datetime.datetime.strptime(x, '%Y-%m-%d'), data_df.index)"
   ]
  },
  {
   "cell_type": "code",
   "execution_count": 22,
   "metadata": {
    "collapsed": true
   },
   "outputs": [],
   "source": []
  },
  {
   "cell_type": "code",
   "execution_count": 33,
   "metadata": {
    "collapsed": false
   },
   "outputs": [],
   "source": []
  },
  {
   "cell_type": "code",
   "execution_count": 42,
   "metadata": {
    "collapsed": false
   },
   "outputs": [],
   "source": []
  },
  {
   "cell_type": "code",
   "execution_count": 5,
   "metadata": {
    "collapsed": false
   },
   "outputs": [
    {
     "data": {
      "text/plain": [
       "datetime\n",
       "1984-03-30    1.000000\n",
       "1984-06-29    1.000580\n",
       "1984-09-28    1.002438\n",
       "1984-12-31    0.987477\n",
       "1985-03-29    0.983264\n",
       "1985-06-28    0.970181\n",
       "1985-09-30    0.979760\n",
       "1985-12-31    0.974890\n",
       "1986-03-31    0.968663\n",
       "1986-06-30    0.980426\n",
       "1986-09-30    0.960522\n",
       "1986-12-31    0.935075\n",
       "1987-03-31    0.947224\n",
       "1987-06-30    0.965557\n",
       "1987-09-30    0.981355\n",
       "1987-12-31    0.986366\n",
       "1988-03-31    0.965988\n",
       "1988-06-30    0.988096\n",
       "1988-09-30    1.033618\n",
       "1988-12-30    1.038425\n",
       "1989-03-31    1.056978\n",
       "1989-06-30    1.072126\n",
       "1989-09-29    1.072656\n",
       "1989-12-29    1.083958\n",
       "1990-03-30    1.085216\n",
       "1990-06-29    1.103097\n",
       "1990-09-28    1.116857\n",
       "1990-12-31    1.117893\n",
       "1991-03-29    1.124729\n",
       "1991-06-28    1.109314\n",
       "                ...   \n",
       "2008-09-30    1.657191\n",
       "2008-12-31    1.563132\n",
       "2009-03-31    1.405528\n",
       "2009-06-30    1.438364\n",
       "2009-09-30    1.488982\n",
       "2009-12-31    1.525043\n",
       "2010-03-31    1.543116\n",
       "2010-06-30    1.534194\n",
       "2010-09-30    1.503027\n",
       "2010-12-31    1.521847\n",
       "2011-03-31    1.543563\n",
       "2011-06-30    1.561898\n",
       "2011-09-30    1.568987\n",
       "2011-12-30    1.513483\n",
       "2012-03-30    1.542294\n",
       "2012-06-29    1.581825\n",
       "2012-09-28    1.574628\n",
       "2012-12-31    1.602118\n",
       "2013-03-29    1.628394\n",
       "2013-06-28    1.654466\n",
       "2013-09-30    1.600806\n",
       "2013-12-31    1.613612\n",
       "2014-03-31    1.604084\n",
       "2014-06-30    1.617809\n",
       "2014-09-30    1.628502\n",
       "2014-12-31    1.620995\n",
       "2015-03-31    1.607896\n",
       "2015-06-30    1.573922\n",
       "2015-09-30    1.542640\n",
       "2015-12-31    1.492380\n",
       "Name: 15_currs_10_liquid_3_parts_3m, dtype: float64"
      ]
     },
     "execution_count": 5,
     "metadata": {},
     "output_type": "execute_result"
    }
   ],
   "source": [
    "target_data = data_df['15_currs_10_liquid_3_parts_3m'].shift(1)\n",
    "target_data = target_data + 1\n",
    "target_data[0] = 1\n",
    "for i in range(1, len(target_data.index)):\n",
    "    target_data[i] = target_data[i - 1] * target_data[i]\n",
    "target_data"
   ]
  },
  {
   "cell_type": "code",
   "execution_count": 31,
   "metadata": {
    "collapsed": false
   },
   "outputs": [],
   "source": [
    "fig = plt.figure(figsize=(15,6))\n",
    "plt.gca().xaxis.set_major_formatter(mdates.DateFormatter('%Y'))\n",
    "plt.gca().xaxis.set_major_locator(mdates.YearLocator())\n",
    "plt.plot(date_info, target_data, 'ro-')\n",
    "datemin = date_info[0]\n",
    "datemax = date_info[-1]\n",
    "plt.gca().set_xlim(datemin, datemax)\n",
    "fig.autofmt_xdate()\n",
    "fig.suptitle('15_currs_10_liquid_3_parts_3m')\n",
    "plt.axvline(date_info[33])\n",
    "plt.axvline(date_info[65])\n",
    "plt.axvline(date_info[97])\n",
    "fig.savefig('test2png.png')"
   ]
  },
  {
   "cell_type": "code",
   "execution_count": 30,
   "metadata": {
    "collapsed": true
   },
   "outputs": [],
   "source": [
    "plt.clf()"
   ]
  }
 ],
 "metadata": {
  "kernelspec": {
   "display_name": "Python 2",
   "language": "python",
   "name": "python2"
  },
  "language_info": {
   "codemirror_mode": {
    "name": "ipython",
    "version": 2
   },
   "file_extension": ".py",
   "mimetype": "text/x-python",
   "name": "python",
   "nbconvert_exporter": "python",
   "pygments_lexer": "ipython2",
   "version": "2.7.12"
  }
 },
 "nbformat": 4,
 "nbformat_minor": 0
}
