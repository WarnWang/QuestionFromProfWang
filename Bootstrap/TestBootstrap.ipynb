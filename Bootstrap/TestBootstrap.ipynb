{
 "cells": [
  {
   "cell_type": "code",
   "execution_count": 1,
   "metadata": {
    "collapsed": true
   },
   "outputs": [],
   "source": [
    "import pandas as pd\n",
    "import numpy as np\n",
    "# from arch.bootstrap import StationaryBootstrap\n",
    "\n",
    "import math\n",
    "from dateutil.relativedelta import relativedelta\n",
    "import datetime"
   ]
  },
  {
   "cell_type": "code",
   "execution_count": 2,
   "metadata": {
    "collapsed": false
   },
   "outputs": [],
   "source": [
    "df_12m = pd.read_csv('20160703_12m_updated.csv', index_col=0)\n",
    "df_6m = pd.read_csv('20160703_6m_updated.csv', index_col=0)\n",
    "df_3m = pd.read_csv('20160703_3m_updated.csv', index_col=0)\n",
    "df_1m = pd.read_csv('20160703_1m_updated.csv', index_col=0)"
   ]
  },
  {
   "cell_type": "code",
   "execution_count": 30,
   "metadata": {
    "collapsed": false
   },
   "outputs": [
    {
     "data": {
      "text/plain": [
       "Series([], dtype: float64)"
      ]
     },
     "execution_count": 30,
     "metadata": {},
     "output_type": "execute_result"
    }
   ],
   "source": [
    "df_mean = df_1m.mean()\n",
    "df_demean = df_1m - df_mean\n",
    "df_std = df_demean.std()\n",
    "sspa = 387 ** 0.5 * df_mean / df_std\n",
    "recenter = df_mean / df_std\n",
    "recenter = recenter[sspa <= (-(2*math.log(math.log(387)))**(0.5))]"
   ]
  },
  {
   "cell_type": "code",
   "execution_count": 45,
   "metadata": {
    "collapsed": false
   },
   "outputs": [
    {
     "data": {
      "text/html": [
       "<div>\n",
       "<table border=\"1\" class=\"dataframe\">\n",
       "  <thead>\n",
       "    <tr style=\"text-align: right;\">\n",
       "      <th></th>\n",
       "      <th>10_currs_2_parts_1m</th>\n",
       "      <th>10_currs_3_parts_1m</th>\n",
       "      <th>10_currs_5_parts_1m</th>\n",
       "      <th>10_currs_5_parts_1m.1</th>\n",
       "      <th>10_currs_10_parts_1m</th>\n",
       "      <th>12_currs_2_parts_1m</th>\n",
       "      <th>12_currs_3_parts_1m</th>\n",
       "      <th>12_currs_5_parts_1m</th>\n",
       "      <th>12_currs_6_parts_1m</th>\n",
       "      <th>12_currs_12_parts_1m</th>\n",
       "      <th>...</th>\n",
       "      <th>58_currs_2_parts_1m</th>\n",
       "      <th>58_currs_3_parts_1m</th>\n",
       "      <th>58_currs_5_parts_1m</th>\n",
       "      <th>58_currs_29_parts_1m</th>\n",
       "      <th>58_currs_58_parts_1m</th>\n",
       "      <th>60_currs_2_parts_1m</th>\n",
       "      <th>60_currs_3_parts_1m</th>\n",
       "      <th>60_currs_5_parts_1m</th>\n",
       "      <th>60_currs_30_parts_1m</th>\n",
       "      <th>60_currs_60_parts_1m</th>\n",
       "    </tr>\n",
       "  </thead>\n",
       "  <tbody>\n",
       "    <tr>\n",
       "      <th>0</th>\n",
       "      <td>0.256582</td>\n",
       "      <td>0.31433</td>\n",
       "      <td>0.274009</td>\n",
       "      <td>0.274009</td>\n",
       "      <td>0.246974</td>\n",
       "      <td>0.275425</td>\n",
       "      <td>0.294538</td>\n",
       "      <td>0.275921</td>\n",
       "      <td>0.295382</td>\n",
       "      <td>0.249806</td>\n",
       "      <td>...</td>\n",
       "      <td>0.398707</td>\n",
       "      <td>0.451115</td>\n",
       "      <td>0.457762</td>\n",
       "      <td>0.519448</td>\n",
       "      <td>0.466385</td>\n",
       "      <td>0.398707</td>\n",
       "      <td>0.451115</td>\n",
       "      <td>0.457762</td>\n",
       "      <td>0.519448</td>\n",
       "      <td>0.466385</td>\n",
       "    </tr>\n",
       "  </tbody>\n",
       "</table>\n",
       "<p>1 rows × 130 columns</p>\n",
       "</div>"
      ],
      "text/plain": [
       "   10_currs_2_parts_1m  10_currs_3_parts_1m  10_currs_5_parts_1m  \\\n",
       "0             0.256582              0.31433             0.274009   \n",
       "\n",
       "   10_currs_5_parts_1m.1  10_currs_10_parts_1m  12_currs_2_parts_1m  \\\n",
       "0               0.274009              0.246974             0.275425   \n",
       "\n",
       "   12_currs_3_parts_1m  12_currs_5_parts_1m  12_currs_6_parts_1m  \\\n",
       "0             0.294538             0.275921             0.295382   \n",
       "\n",
       "   12_currs_12_parts_1m          ...           58_currs_2_parts_1m  \\\n",
       "0              0.249806          ...                      0.398707   \n",
       "\n",
       "   58_currs_3_parts_1m  58_currs_5_parts_1m  58_currs_29_parts_1m  \\\n",
       "0             0.451115             0.457762              0.519448   \n",
       "\n",
       "   58_currs_58_parts_1m  60_currs_2_parts_1m  60_currs_3_parts_1m  \\\n",
       "0              0.466385             0.398707             0.451115   \n",
       "\n",
       "   60_currs_5_parts_1m  60_currs_30_parts_1m  60_currs_60_parts_1m  \n",
       "0             0.457762              0.519448              0.466385  \n",
       "\n",
       "[1 rows x 130 columns]"
      ]
     },
     "execution_count": 45,
     "metadata": {},
     "output_type": "execute_result"
    }
   ],
   "source": [
    "\n",
    "boot_result = pd.DataFrame(columns=df.keys())\n",
    "boot_result.loc[0] = df_demean.sample(1000, replace=True).mean() / df_std + recenter\n",
    "boot_result"
   ]
  },
  {
   "cell_type": "code",
   "execution_count": 4,
   "metadata": {
    "collapsed": false
   },
   "outputs": [],
   "source": [
    "from datetime import date\n",
    "  \n",
    "def date_to_dec (d):\n",
    "\t\"\"\"\n",
    "\tConvert a Python date to a decimal year.\n",
    "\t\n",
    "\tWe need to cope with a few tricks here: making the value of the day as the\n",
    "\tmiddle of the daya, allowing for leap years and so on. Otherwise you can\n",
    "\tend up with Jan 1 or Dec 31 ending up in the next year or other strange\n",
    "\tfigures. Admittedly the level of error will be small, but why introduce\n",
    "\tmore noise than necessary.\n",
    "\t  \n",
    "\t`toordinal` gives an integer that ticks up 1 per day, so it makes this\n",
    "\tcalculation fairly easy.\n",
    "\t\"\"\"\n",
    "\tyear_start = date (d.year, 1, 1).toordinal()\n",
    "\tnext_year_start= date (d.year + 1, 1, 1).toordinal()\n",
    "\tfrac = float (d.toordinal() + 0.5 - year_start) / (next_year_start - year_start)\n",
    "\treturn d.year + frac"
   ]
  },
  {
   "cell_type": "code",
   "execution_count": 6,
   "metadata": {
    "collapsed": false
   },
   "outputs": [
    {
     "name": "stdout",
     "output_type": "stream",
     "text": [
      "18_currs_18_parts_6m\n",
      "10_currs_3_parts_6m\n"
     ]
    }
   ],
   "source": [
    "keys = data_df.keys()\n",
    "mean_i = 155 - 1\n",
    "sharpe_i = 132 - 1\n",
    "print keys[mean_i]\n",
    "print keys[sharpe_i]\n",
    "# print data_df[keys[mean_i]].mean()\n",
    "# print data_df[keys[sharpe_i]].mean()"
   ]
  },
  {
   "cell_type": "code",
   "execution_count": 18,
   "metadata": {
    "collapsed": false
   },
   "outputs": [
    {
     "name": "stdout",
     "output_type": "stream",
     "text": [
      "2008-12-31\n",
      "2016-01-29\n",
      "6.29602193266\n",
      "0.234718981415\n",
      "56_currs_56_parts_3m\n",
      "18_currs_18_parts_12m\n"
     ]
    }
   ],
   "source": [
    "data_df = df_12m\n",
    "n, m = data_df.shape\n",
    "p = 26\n",
    "q = 33\n",
    "max_mean = 1.288218471189529e6\n",
    "max_sharpe = 0.000004448691297e6\n",
    "mean_i = 380 - 1\n",
    "sharpe_i = 25 - 1\n",
    "\n",
    "p = p - 1 if p > 1 else p\n",
    "print data_df.index[p - 1]\n",
    "print data_df.index[q - 1]\n",
    "date1 = datetime.datetime.strptime(data_df.index[p - 1], \"%Y-%m-%d\")\n",
    "date2 = datetime.datetime.strptime(data_df.index[q - 1], \"%Y-%m-%d\")\n",
    "years = date_to_dec(date2) - date_to_dec(date1)\n",
    "print math.pow(max_mean, 1 / years) - 1\n",
    "print math.pow(max_sharpe, 1 / years) - 1\n",
    "keys = data_df.keys()\n",
    "print keys[mean_i]\n",
    "print keys[sharpe_i]"
   ]
  },
  {
   "cell_type": "code",
   "execution_count": 19,
   "metadata": {
    "collapsed": false
   },
   "outputs": [
    {
     "name": "stdout",
     "output_type": "stream",
     "text": [
      "2008-06-30\n",
      "2016-01-29\n",
      "6.22472059894\n",
      "1.24613038172\n",
      "56_currs_56_parts_3m\n",
      "56_currs_56_parts_6m\n"
     ]
    }
   ],
   "source": [
    "data_df = df_6m\n",
    "n, m = data_df.shape\n",
    "p = 50\n",
    "q = 65\n",
    "max_mean = 3.247529396111676e6\n",
    "max_sharpe = 0.000461921696338e6\n",
    "mean_i = 250 - 1\n",
    "sharpe_i = 120 - 1\n",
    "\n",
    "p = p - 1 if p > 1 else p\n",
    "print data_df.index[p - 1]\n",
    "print data_df.index[q - 1]\n",
    "date1 = datetime.datetime.strptime(data_df.index[p - 1], \"%Y-%m-%d\")\n",
    "date2 = datetime.datetime.strptime(data_df.index[q - 1], \"%Y-%m-%d\")\n",
    "years = date_to_dec(date2) - date_to_dec(date1)\n",
    "print math.pow(max_mean, 1 / years) - 1\n",
    "print math.pow(max_sharpe, 1 / years) - 1\n",
    "keys = data_df.keys()\n",
    "print keys[mean_i]\n",
    "print keys[sharpe_i]"
   ]
  },
  {
   "cell_type": "code",
   "execution_count": 36,
   "metadata": {
    "collapsed": false
   },
   "outputs": [
    {
     "name": "stdout",
     "output_type": "stream",
     "text": [
      "2012-03-30\n",
      "2016-01-29\n",
      "10.2534894669\n",
      "0.314069803275\n",
      "56_currs_56_parts_3m\n",
      "40_currs_40_parts_1m\n"
     ]
    }
   ],
   "source": [
    "data_df = df_3m\n",
    "n, m = data_df.shape\n",
    "p = 114\n",
    "q = 129\n",
    "max_mean = 1.071357219018965e4\n",
    "max_sharpe = 0.000284907579334e4\n",
    "mean_i = 120 - 1\n",
    "sharpe_i = 210 - 1\n",
    "\n",
    "p = p - 1 if p > 1 else p\n",
    "print data_df.index[p - 1]\n",
    "print data_df.index[q - 1]\n",
    "date1 = datetime.datetime.strptime(data_df.index[p - 1], \"%Y-%m-%d\")\n",
    "date2 = datetime.datetime.strptime(data_df.index[q - 1], \"%Y-%m-%d\")\n",
    "years = date_to_dec(date2) - date_to_dec(date1)\n",
    "print math.pow(max_mean, 1 / years) - 1\n",
    "print math.pow(max_sharpe, 1 / years) - 1\n",
    "keys = data_df.keys()\n",
    "print keys[mean_i]\n",
    "print keys[sharpe_i]"
   ]
  },
  {
   "cell_type": "code",
   "execution_count": 37,
   "metadata": {
    "collapsed": false
   },
   "outputs": [
    {
     "name": "stdout",
     "output_type": "stream",
     "text": [
      "2012-01-31\n",
      "2016-01-29\n",
      "6.25704592474\n",
      "0.407020890112\n",
      "56_currs_56_parts_1m\n",
      "46_currs_23_parts_1m\n"
     ]
    }
   ],
   "source": [
    "data_df = df_1m\n",
    "n, m = data_df.shape\n",
    "p = 340\n",
    "q = 387\n",
    "max_mean = 2.743695303629289e3\n",
    "max_sharpe = 0.003911936498765e3\n",
    "mean_i = 120 - 1\n",
    "sharpe_i = 94 - 1\n",
    "\n",
    "p = p - 1 if p > 1 else p\n",
    "print data_df.index[p - 1]\n",
    "print data_df.index[q - 1]\n",
    "date1 = datetime.datetime.strptime(data_df.index[p - 1], \"%Y-%m-%d\")\n",
    "date2 = datetime.datetime.strptime(data_df.index[q - 1], \"%Y-%m-%d\")\n",
    "years = date_to_dec(date2) - date_to_dec(date1)\n",
    "print math.pow(max_mean, 1 / years) - 1\n",
    "print math.pow(max_sharpe, 1 / years) - 1\n",
    "keys = data_df.keys()\n",
    "print keys[mean_i]\n",
    "print keys[sharpe_i]"
   ]
  }
 ],
 "metadata": {
  "kernelspec": {
   "display_name": "Python 2",
   "language": "python",
   "name": "python2"
  },
  "language_info": {
   "codemirror_mode": {
    "name": "ipython",
    "version": 2
   },
   "file_extension": ".py",
   "mimetype": "text/x-python",
   "name": "python",
   "nbconvert_exporter": "python",
   "pygments_lexer": "ipython2",
   "version": "2.7.12"
  }
 },
 "nbformat": 4,
 "nbformat_minor": 0
}
