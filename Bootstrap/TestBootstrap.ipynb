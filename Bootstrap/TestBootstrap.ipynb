{
 "cells": [
  {
   "cell_type": "code",
   "execution_count": 1,
   "metadata": {
    "collapsed": true
   },
   "outputs": [],
   "source": [
    "import pandas as pd\n",
    "from arch.bootstrap import StationaryBootstrap\n",
    "\n",
    "import math"
   ]
  },
  {
   "cell_type": "code",
   "execution_count": 2,
   "metadata": {
    "collapsed": false
   },
   "outputs": [],
   "source": [
    "df_12m = pd.read_csv('20160703_12m_updated.csv', index_col=0)\n",
    "df_6m = pd.read_csv('20160703_6m_updated.csv', index_col=0)\n",
    "df_3m = pd.read_csv('20160703_3m_updated.csv', index_col=0)\n",
    "df_1m = pd.read_csv('20160703_1m_updated.csv', index_col=0)"
   ]
  },
  {
   "cell_type": "code",
   "execution_count": 30,
   "metadata": {
    "collapsed": false
   },
   "outputs": [
    {
     "data": {
      "text/plain": [
       "Series([], dtype: float64)"
      ]
     },
     "execution_count": 30,
     "metadata": {},
     "output_type": "execute_result"
    }
   ],
   "source": [
    "df_mean = df_1m.mean()\n",
    "df_demean = df_1m - df_mean\n",
    "df_std = df_demean.std()\n",
    "sspa = 387 ** 0.5 * df_mean / df_std\n",
    "recenter = df_mean / df_std\n",
    "recenter = recenter[sspa <= (-(2*math.log(math.log(387)))**(0.5))]"
   ]
  },
  {
   "cell_type": "code",
   "execution_count": 45,
   "metadata": {
    "collapsed": false
   },
   "outputs": [
    {
     "data": {
      "text/html": [
       "<div>\n",
       "<table border=\"1\" class=\"dataframe\">\n",
       "  <thead>\n",
       "    <tr style=\"text-align: right;\">\n",
       "      <th></th>\n",
       "      <th>10_currs_2_parts_1m</th>\n",
       "      <th>10_currs_3_parts_1m</th>\n",
       "      <th>10_currs_5_parts_1m</th>\n",
       "      <th>10_currs_5_parts_1m.1</th>\n",
       "      <th>10_currs_10_parts_1m</th>\n",
       "      <th>12_currs_2_parts_1m</th>\n",
       "      <th>12_currs_3_parts_1m</th>\n",
       "      <th>12_currs_5_parts_1m</th>\n",
       "      <th>12_currs_6_parts_1m</th>\n",
       "      <th>12_currs_12_parts_1m</th>\n",
       "      <th>...</th>\n",
       "      <th>58_currs_2_parts_1m</th>\n",
       "      <th>58_currs_3_parts_1m</th>\n",
       "      <th>58_currs_5_parts_1m</th>\n",
       "      <th>58_currs_29_parts_1m</th>\n",
       "      <th>58_currs_58_parts_1m</th>\n",
       "      <th>60_currs_2_parts_1m</th>\n",
       "      <th>60_currs_3_parts_1m</th>\n",
       "      <th>60_currs_5_parts_1m</th>\n",
       "      <th>60_currs_30_parts_1m</th>\n",
       "      <th>60_currs_60_parts_1m</th>\n",
       "    </tr>\n",
       "  </thead>\n",
       "  <tbody>\n",
       "    <tr>\n",
       "      <th>0</th>\n",
       "      <td>0.256582</td>\n",
       "      <td>0.31433</td>\n",
       "      <td>0.274009</td>\n",
       "      <td>0.274009</td>\n",
       "      <td>0.246974</td>\n",
       "      <td>0.275425</td>\n",
       "      <td>0.294538</td>\n",
       "      <td>0.275921</td>\n",
       "      <td>0.295382</td>\n",
       "      <td>0.249806</td>\n",
       "      <td>...</td>\n",
       "      <td>0.398707</td>\n",
       "      <td>0.451115</td>\n",
       "      <td>0.457762</td>\n",
       "      <td>0.519448</td>\n",
       "      <td>0.466385</td>\n",
       "      <td>0.398707</td>\n",
       "      <td>0.451115</td>\n",
       "      <td>0.457762</td>\n",
       "      <td>0.519448</td>\n",
       "      <td>0.466385</td>\n",
       "    </tr>\n",
       "  </tbody>\n",
       "</table>\n",
       "<p>1 rows × 130 columns</p>\n",
       "</div>"
      ],
      "text/plain": [
       "   10_currs_2_parts_1m  10_currs_3_parts_1m  10_currs_5_parts_1m  \\\n",
       "0             0.256582              0.31433             0.274009   \n",
       "\n",
       "   10_currs_5_parts_1m.1  10_currs_10_parts_1m  12_currs_2_parts_1m  \\\n",
       "0               0.274009              0.246974             0.275425   \n",
       "\n",
       "   12_currs_3_parts_1m  12_currs_5_parts_1m  12_currs_6_parts_1m  \\\n",
       "0             0.294538             0.275921             0.295382   \n",
       "\n",
       "   12_currs_12_parts_1m          ...           58_currs_2_parts_1m  \\\n",
       "0              0.249806          ...                      0.398707   \n",
       "\n",
       "   58_currs_3_parts_1m  58_currs_5_parts_1m  58_currs_29_parts_1m  \\\n",
       "0             0.451115             0.457762              0.519448   \n",
       "\n",
       "   58_currs_58_parts_1m  60_currs_2_parts_1m  60_currs_3_parts_1m  \\\n",
       "0              0.466385             0.398707             0.451115   \n",
       "\n",
       "   60_currs_5_parts_1m  60_currs_30_parts_1m  60_currs_60_parts_1m  \n",
       "0             0.457762              0.519448              0.466385  \n",
       "\n",
       "[1 rows x 130 columns]"
      ]
     },
     "execution_count": 45,
     "metadata": {},
     "output_type": "execute_result"
    }
   ],
   "source": [
    "\n",
    "boot_result = pd.DataFrame(columns=df.keys())\n",
    "boot_result.loc[0] = df_demean.sample(1000, replace=True).mean() / df_std + recenter\n",
    "boot_result"
   ]
  },
  {
   "cell_type": "code",
   "execution_count": 38,
   "metadata": {
    "collapsed": false
   },
   "outputs": [
    {
     "name": "stdout",
     "output_type": "stream",
     "text": [
      "2008-06-30\n",
      "2012-03-30\n"
     ]
    }
   ],
   "source": [
    "n, m = df_3m.shape\n",
    "p = 98\n",
    "q = 113\n",
    "print df_3m.index[p - 1]\n",
    "print df_3m.index[q - 1]"
   ]
  }
 ],
 "metadata": {
  "kernelspec": {
   "display_name": "Python 2",
   "language": "python",
   "name": "python2"
  },
  "language_info": {
   "codemirror_mode": {
    "name": "ipython",
    "version": 2
   },
   "file_extension": ".py",
   "mimetype": "text/x-python",
   "name": "python",
   "nbconvert_exporter": "python",
   "pygments_lexer": "ipython2",
   "version": "2.7.12"
  }
 },
 "nbformat": 4,
 "nbformat_minor": 0
}
