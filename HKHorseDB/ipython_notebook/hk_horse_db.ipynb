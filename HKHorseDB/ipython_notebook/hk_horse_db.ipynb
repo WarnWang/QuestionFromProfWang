{
 "cells": [
  {
   "cell_type": "code",
   "execution_count": 1,
   "metadata": {
    "collapsed": false
   },
   "outputs": [],
   "source": [
    "import time\n",
    "import urllib\n",
    "import urllib2\n",
    "import datetime\n",
    "from StringIO import StringIO\n",
    "from bs4 import BeautifulSoup\n",
    "\n",
    "import pandas as pd\n",
    "\n",
    "\n",
    "def get(url, data_list=None, max_try=3):\n",
    "    if data_list:\n",
    "        url = \"{}?{}\".format(url, urllib.urlencode(data_list))\n",
    "    query = urllib2.Request(url)\n",
    "    current_try = 0\n",
    "    while current_try < max_try:\n",
    "        try:\n",
    "            response = urllib2.urlopen(query)\n",
    "            html = response.read()\n",
    "            response.close()\n",
    "            return html\n",
    "        except Exception, e:\n",
    "            return None\n",
    "    raise Exception(\"Cannot open page {}\".format(url))"
   ]
  },
  {
   "cell_type": "code",
   "execution_count": 2,
   "metadata": {
    "collapsed": true
   },
   "outputs": [],
   "source": [
    "url = 'http://www.hkhorsedb.com/cseh/passodds.php'\n",
    "html = get(url)"
   ]
  },
  {
   "cell_type": "code",
   "execution_count": 4,
   "metadata": {
    "collapsed": false
   },
   "outputs": [],
   "source": [
    "soup = BeautifulSoup(html)"
   ]
  },
  {
   "cell_type": "code",
   "execution_count": 37,
   "metadata": {
    "collapsed": false
   },
   "outputs": [],
   "source": [
    "tr_list = soup.findAll('table')[15].findAll('tr')[1:]"
   ]
  },
  {
   "cell_type": "code",
   "execution_count": 42,
   "metadata": {
    "collapsed": false
   },
   "outputs": [],
   "source": [
    "detail_date = tr_list[1].findAll('td')[0].text"
   ]
  },
  {
   "cell_type": "code",
   "execution_count": 44,
   "metadata": {
    "collapsed": false
   },
   "outputs": [],
   "source": [
    "target_url = 'http://www.hkhorsedb.com/cseh/poddsleftxml.php'\n",
    "date_info = ''.join(detail_date.split('-'))\n",
    "query_data = [('rdate', date_info),\n",
    "              ('vrecno', 1),\n",
    "              ('pcode', 1)]\n",
    "\n",
    "query_result = get(target_url, query_data)"
   ]
  },
  {
   "cell_type": "code",
   "execution_count": 31,
   "metadata": {
    "collapsed": false
   },
   "outputs": [
    {
     "data": {
      "text/plain": [
       "[<font color=\"red\"><b>4.7</b></font>]"
      ]
     },
     "execution_count": 31,
     "metadata": {},
     "output_type": "execute_result"
    }
   ],
   "source": [
    "soup.findAll('table')[1].findAll('tr')[1].findAll('td')[17].findAll('font')"
   ]
  },
  {
   "cell_type": "code",
   "execution_count": 32,
   "metadata": {
    "collapsed": false
   },
   "outputs": [
    {
     "ename": "NameError",
     "evalue": "name 'date_info' is not defined",
     "output_type": "error",
     "traceback": [
      "\u001b[0;31m---------------------------------------------------------------------------\u001b[0m",
      "\u001b[0;31mNameError\u001b[0m                                 Traceback (most recent call last)",
      "\u001b[0;32m<ipython-input-32-52ee30625a2d>\u001b[0m in \u001b[0;36m<module>\u001b[0;34m()\u001b[0m\n\u001b[0;32m----> 1\u001b[0;31m \u001b[0mdate_info\u001b[0m\u001b[0;34m\u001b[0m\u001b[0m\n\u001b[0m",
      "\u001b[0;31mNameError\u001b[0m: name 'date_info' is not defined"
     ]
    }
   ],
   "source": [
    "date_info"
   ]
  },
  {
   "cell_type": "code",
   "execution_count": 4,
   "metadata": {
    "collapsed": false,
    "scrolled": true
   },
   "outputs": [],
   "source": [
    "import os\n",
    "\n",
    "from time import sleep\n",
    "\n",
    "from selenium import webdriver\n",
    "from selenium.common.exceptions import NoSuchElementException\n",
    "import xlsxwriter"
   ]
  },
  {
   "cell_type": "code",
   "execution_count": 2,
   "metadata": {
    "collapsed": true
   },
   "outputs": [],
   "source": [
    "date_str = '20080109'\n",
    "race_id = 1\n",
    "race_course = 'HV'\n",
    "\n",
    "# filename = '{}_{}.xlsx'.format(date_str, race_id)\n",
    "url = 'http://racing.hkjc.com/racing/Info/meeting/Results/english/Local/{}/{}/{}'.format(date_str,\n",
    "                                                                                         race_course,\n",
    "                                                                                         race_id)"
   ]
  },
  {
   "cell_type": "code",
   "execution_count": 5,
   "metadata": {
    "collapsed": false
   },
   "outputs": [],
   "source": [
    "driver = webdriver.Chrome('/Users/warn/Downloads/chromedriver')"
   ]
  },
  {
   "cell_type": "code",
   "execution_count": 6,
   "metadata": {
    "collapsed": true
   },
   "outputs": [],
   "source": [
    "driver.get(url)"
   ]
  },
  {
   "cell_type": "code",
   "execution_count": 7,
   "metadata": {
    "collapsed": true
   },
   "outputs": [],
   "source": [
    "table = driver.find_elements_by_class_name('tableBorder')[0]"
   ]
  },
  {
   "cell_type": "code",
   "execution_count": 8,
   "metadata": {
    "collapsed": true
   },
   "outputs": [],
   "source": [
    "data = table.find_elements_by_tag_name('tr')"
   ]
  },
  {
   "cell_type": "code",
   "execution_count": 26,
   "metadata": {
    "collapsed": false
   },
   "outputs": [],
   "source": [
    "detail = data[5].find_elements_by_tag_name('td')"
   ]
  },
  {
   "cell_type": "code",
   "execution_count": 27,
   "metadata": {
    "collapsed": false
   },
   "outputs": [
    {
     "data": {
      "text/plain": [
       "12"
      ]
     },
     "execution_count": 27,
     "metadata": {},
     "output_type": "execute_result"
    }
   ],
   "source": [
    "len(detail)"
   ]
  },
  {
   "cell_type": "code",
   "execution_count": 29,
   "metadata": {
    "collapsed": false,
    "scrolled": true
   },
   "outputs": [
    {
     "data": {
      "text/plain": [
       "u'RED FORTUNE(E192)'"
      ]
     },
     "execution_count": 29,
     "metadata": {},
     "output_type": "execute_result"
    }
   ],
   "source": [
    "detail[2].text"
   ]
  },
  {
   "cell_type": "code",
   "execution_count": 30,
   "metadata": {
    "collapsed": true
   },
   "outputs": [],
   "source": [
    "driver.close()"
   ]
  },
  {
   "cell_type": "code",
   "execution_count": 9,
   "metadata": {
    "collapsed": true
   },
   "outputs": [
    {
     "name": "stdout",
     "output_type": "stream",
     "text": [
      "Plc. Horse No. Horse Jockey Trainer Actual\n",
      "Wt. Declar.\n",
      "Horse Wt. Draw LBW Running\n",
      "Position Finish Time Win Odds\n",
      "\n",
      "1 1 WONG'S FAVOURITE(G131) D Whyte Y S Tsui 133 978 9 -\n",
      "9\n",
      "2.19.00 6\n",
      "\n",
      "9\n",
      "\n",
      "2 12 CHALLENGER(E138) H W Lai A Lee 110 1012 1 3/4\n",
      "3\n",
      "2.19.10 8.4\n",
      "\n",
      "3\n",
      "\n",
      "3 4 RED FORTUNE(E192) O Doleuze A Schutz 128 977 2 4-1/4 --- 2.19.60 8.9\n",
      "\n",
      "4 8 FLYING PROFILE(D168) C Soumillon D Cruz 122 1070 6 7-3/4 --- 2.20.10 3.2\n",
      "\n",
      "5 5 VITALITY CHAMP(D301) P H Lo T K Ng 119 1150 3 8-1/2\n",
      "1\n",
      "2.20.30 58\n",
      "\n",
      "1\n",
      "\n",
      "6 7 SINOSPIEL(G003) K T Yeung D E Ferraris 118 992 5 9-1/4\n",
      "7\n",
      "2.20.40 12\n",
      "\n",
      "7\n",
      "\n",
      "7 9 DANZIGMOUNTAIN(G139) E Saint-Martin C S Shum 121 1024 8 11\n",
      "11\n",
      "2.20.70 17\n",
      "\n",
      "11\n",
      "\n",
      "8 6 FISHKING EXCELLENT(G232) W M Lai P F Yiu 123 1047 7 11-1/2\n",
      "6\n",
      "2.20.80 6.4\n",
      "\n",
      "6\n",
      "\n",
      "9 11 MULLAAD(G259) M Nunes D Cruz 116 1095 4 11-3/4\n",
      "10\n",
      "2.20.80 34\n",
      "\n",
      "10\n",
      "\n",
      "10 3 NATURAL ECHO(CB326) B Prebble K L Man 130 1146 12 22-1/4\n",
      "2\n",
      "2.22.40 9.8\n",
      "\n",
      "2\n",
      "\n",
      "11 10 DANEPRINT(C221) Y T Cheng C H Yip 114 1087 10 40-1/2\n",
      "4\n",
      "2.25.40 23\n",
      "\n",
      "4\n",
      "\n",
      "12 2 MAKE A MINT(H005) M W Leung S Woods 126 1084 11 46-1/4\n",
      "12\n",
      "2.26.30 70\n",
      "\n",
      "12\n",
      "\n"
     ]
    }
   ],
   "source": [
    "for i in data:\n",
    "    print i.text\n",
    "    print"
   ]
  }
 ],
 "metadata": {
  "kernelspec": {
   "display_name": "Python 2",
   "language": "python",
   "name": "python2"
  },
  "language_info": {
   "codemirror_mode": {
    "name": "ipython",
    "version": 2
   },
   "file_extension": ".py",
   "mimetype": "text/x-python",
   "name": "python",
   "nbconvert_exporter": "python",
   "pygments_lexer": "ipython2",
   "version": "2.7.13"
  }
 },
 "nbformat": 4,
 "nbformat_minor": 0
}
