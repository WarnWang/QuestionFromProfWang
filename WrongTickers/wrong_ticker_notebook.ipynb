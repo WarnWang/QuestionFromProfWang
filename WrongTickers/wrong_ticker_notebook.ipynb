{
 "cells": [
  {
   "cell_type": "code",
   "execution_count": 1,
   "metadata": {
    "collapsed": true
   },
   "outputs": [],
   "source": [
    "import datetime\n",
    "\n",
    "import pandas as pd\n",
    "import numpy as np\n",
    "from pandas.tseries.holiday import USFederalHolidayCalendar\n",
    "from pandas.tseries.offsets import CustomBusinessDay\n",
    "\n",
    "from constants import *"
   ]
  },
  {
   "cell_type": "code",
   "execution_count": 2,
   "metadata": {
    "collapsed": false
   },
   "outputs": [],
   "source": [
    "us_cal = CustomBusinessDay(calendar=USFederalHolidayCalendar())"
   ]
  },
  {
   "cell_type": "code",
   "execution_count": 4,
   "metadata": {
    "collapsed": false
   },
   "outputs": [
    {
     "name": "stdout",
     "output_type": "stream",
     "text": [
      "DatetimeIndex(['1992-12-21', '1992-12-22', '1992-12-23', '1992-12-24',\n",
      "               '1992-12-28', '1992-12-29', '1992-12-30', '1992-12-31',\n",
      "               '1993-01-04', '1993-01-05',\n",
      "               ...\n",
      "               '1993-11-29', '1993-11-30', '1993-12-01', '1993-12-02',\n",
      "               '1993-12-03', '1993-12-06', '1993-12-07', '1993-12-08',\n",
      "               '1993-12-09', '1993-12-10'],\n",
      "              dtype='datetime64[ns]', length=245, freq='C')\n"
     ]
    }
   ],
   "source": [
    "start_date = datetime.datetime(1992, 12, 21)\n",
    "end_date = datetime.datetime(1993, 12, 11)\n",
    "date_index = pd.DatetimeIndex(start=start_date, end=end_date, freq=us_cal)\n",
    "print date_index"
   ]
  }
 ],
 "metadata": {
  "kernelspec": {
   "display_name": "Python 2",
   "language": "python",
   "name": "python2"
  },
  "language_info": {
   "codemirror_mode": {
    "name": "ipython",
    "version": 2.0
   },
   "file_extension": ".py",
   "mimetype": "text/x-python",
   "name": "python",
   "nbconvert_exporter": "python",
   "pygments_lexer": "ipython2",
   "version": "2.7.12"
  }
 },
 "nbformat": 4,
 "nbformat_minor": 0
}